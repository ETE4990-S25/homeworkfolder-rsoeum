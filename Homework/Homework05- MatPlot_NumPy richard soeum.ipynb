
{
 "cells": [
  {
   "cell_type": "markdown",
   "id": "bcbdf77d-9d46-4ae3-bbd9-a6dcb8f76da6",
   "metadata": {},
   "source": [
    "# Homework #5 - MatPlot and NumPy\n",
    "\n",
    "\n",
    "\n",
    "#Part 1 Mat Plot Lib\n",
    "\n",
    "Using Matplotlib create the following graphs\n"
   ]
  },
  {
   "cell_type": "code",
   "execution_count": null,
   "id": "16079d3e-c29d-4aac-b033-9aa4f6d72759",
   "metadata": {},
   "outputs": [],
   "source": [
    "# Inports Here"
   ]
  },
  {
   "cell_type": "code",
   "execution_count": null,
   "id": "7c902889-a006-4948-91d3-c49a910b61b0",
   "metadata": {},
   "outputs": [],
   "source": [
    "# Histogram"
   ]
  },
  {
   "cell_type": "code",
   "execution_count": null,
   "id": "47e1e3a8-1b51-4b05-b20c-51f57ac1ce53",
   "metadata": {},
   "outputs": [],
   "source": [
    "# Line Plot"
   ]
  },
  {
   "cell_type": "code",
   "execution_count": null,
   "id": "897447d4-6a06-40b7-aff5-d5470f7d69b9",
   "metadata": {},
   "outputs": [],
   "source": [
    "# Scatter Plot"
   ]
  },
  {
   "cell_type": "code",
   "execution_count": 2,
   "id": "fffe1c02-1904-43aa-b2e9-cbac627ccd88",
   "metadata": {},
   "outputs": [],
   "source": [
    "# Pie Plot"
   ]
  },
  {
   "cell_type": "code",
   "execution_count": null,
   "id": "841a71d6-d331-4720-a89f-84716c623c4e",
   "metadata": {},
   "outputs": [],
   "source": [
    "# Area Plot"
   ]
  },
  {
   "cell_type": "code",
   "execution_count": null,
   "id": "b7e4d5ba-5d06-46d7-8c08-55d29398ca7c",
   "metadata": {},
   "outputs": [],
   "source": [
    "# 3d Plot - Bar Plot"
   ]
  },
  {
   "attachments": {},
   "cell_type": "markdown",
   "id": "4ef0e37b-989a-4ee1-a3f6-fddad08e88aa",
   "metadata": {},
   "source": [
    "# Part 2 - Num Py\n",
    "Like a dictionary, we can create a structured array in Numpy\n",
    "\n",
    "```python\n",
    "data = np.array([\n",
    "    (\"Billy\", 32, 6),\n",
    "    (\"Bob\", 15, 20),\n",
    "    (\"Jo\", 80, 100),\n",
    "    (\"Goku\", 38, 9001),],\n",
    "    dtype=[(\"name\", str, 10), \n",
    "           (\"age\", int), \n",
    "           (\"power\", int)])\n",
    "```\n",
    "\n",
    "Using the following file https://www.kaggle.com/datasets/gregorut/videogamesales\n",
    "\n",
    "Create and sort the data by Name, Year, and NA_Sales\n",
    "\n",
    "Do not use pandas\n",
    "\n",
    "You can use this to help start you on your way\n",
    "https://stackoverflow.com/questions/57785790/construct-structured-numpy-array-from-a-file\n",
    "\n",
    "\n",
    "        "
   ]
  },
  {
   "cell_type": "code",
   "execution_count": 2,
   "id": "d7933b77",
   "metadata": {},
   "outputs": [
    {
     "name": "stdout",
     "output_type": "stream",
     "text": [
      "Name: [('\"3 in 1: Solitaire', nan, nan) ('\"999: Nine Hours', nan, nan)\n",
      " ('\"Army Men World War: Land', nan, nan)\n",
      " ('\"BCFX: The Black College Football Xperience', nan, nan)\n",
      " ('\"Barbie: Jet', nan, nan)]\n",
      "Year: [('Asteroids', 1980., 4.  ) ('Boxing', 1980., 0.72)\n",
      " ('Bridge', 1980., 0.25) ('Checkers', 1980., 0.22)\n",
      " ('Defender', 1980., 0.99)]\n",
      "NA sales: [('.hack//G.U. Vol.1//Rebirth', 2006., 0.)\n",
      " ('.hack//G.U. Vol.2//Reminisce (jp sales)', 2006., 0.)\n",
      " ('.hack//G.U. Vol.3//Redemption', 2007., 0.) ('.hack//Link', 2010., 0.)\n",
      " ('.hack: Sekai no Mukou ni + Versus', 2012., 0.)]\n"
     ]
    },
    {
     "name": "stderr",
     "output_type": "stream",
     "text": [
      "C:\\Users\\rvsoe\\AppData\\Local\\Temp\\ipykernel_36452\\440021589.py:7: ConversionWarning: Some errors were detected !\n",
      "    Line #3552 (got 2 columns instead of 3)\n",
      "    Line #8988 (got 2 columns instead of 3)\n",
      "    Line #10381 (got 2 columns instead of 3)\n",
      "    Line #14590 (got 2 columns instead of 3)\n",
      "    Line #15808 (got 2 columns instead of 3)\n",
      "    Line #16109 (got 2 columns instead of 3)\n",
      "    Line #16163 (got 2 columns instead of 3)\n",
      "    Line #16469 (got 2 columns instead of 3)\n",
      "  data=np.genfromtxt(file_path,delimiter=\",\", names=True, dtype=[('Name','U50'),\n"
     ]
    }
   ],
   "source": [
    "import numpy as np\n",
    "import os\n",
    "file_path = r\"C:\\Users\\rvsoe\\OneDrive\\Desktop\\vgsales.csv\"\n",
    "\n",
    "\n",
    "\n",
    "data=np.genfromtxt(file_path,delimiter=\",\", names=True, dtype=[('Name','U50'),\n",
    "                                                                ('Year',float),\n",
    "                                                                ('NA_sales',float)],usecols=(1,3,6),\n",
    "                    encoding=\"utf-8\", invalid_raise=False)\n",
    "\n",
    "\n",
    "sort_Name=np.sort(data,order='Name')\n",
    "sort_Year=np.sort(data,order='Year')\n",
    "sort_Sales=np.sort(data,order='NA_Sales')\n",
    "\n",
    "print(\"Name:\",sort_Name[:5])\n",
    "print(\"Year:\",sort_Year[:5])\n",
    "print(\"NA sales:\",sort_Sales[:5])\n"
   ]
  }
 ],
 "metadata": {
  "kernelspec": {
   "display_name": "Python 3",
   "language": "python",
   "name": "python3"
  },
  "language_info": {
   "codemirror_mode": {
    "name": "ipython",
    "version": 3
   },
   "file_extension": ".py",
   "mimetype": "text/x-python",
   "name": "python",
   "nbconvert_exporter": "python",
   "pygments_lexer": "ipython3",
   "version": "3.13.2"
  }
 },
 "nbformat": 4,
 "nbformat_minor": 5
}
